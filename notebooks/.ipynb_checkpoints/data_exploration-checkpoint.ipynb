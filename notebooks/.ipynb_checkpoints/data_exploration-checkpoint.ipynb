{
 "cells": [
  {
   "cell_type": "code",
   "execution_count": 2,
   "metadata": {},
   "outputs": [],
   "source": [
    "# std\n",
    "import os\n",
    "\n",
    "# 3rd party\n",
    "import pandas as pd\n",
    "import seaborn as sns\n",
    "import matplotlib.pyplot as plt\n",
    "\n",
    "%matplotlib inline"
   ]
  },
  {
   "cell_type": "code",
   "execution_count": 3,
   "metadata": {},
   "outputs": [],
   "source": [
    "def get_path(filename, dirname=None):\n",
    "    root = os.path.dirname(os.getcwd())\n",
    "    return os.path.join(root, dirname, filename) if dirname else os.path.join(root, filename)"
   ]
  },
  {
   "cell_type": "code",
   "execution_count": 21,
   "metadata": {},
   "outputs": [],
   "source": [
    "def days_between(d1, d2):\n",
    "    \n",
    "    dd1 = min(d1, d2)\n",
    "    dd2 = max(d1, d2)\n",
    "    \n",
    "    return (dd2.year - dd1.year) * 12 + (dd2.month - dd1.month) + (dd2.day - dd1.day)"
   ]
  },
  {
   "cell_type": "code",
   "execution_count": 35,
   "metadata": {},
   "outputs": [
    {
     "data": {
      "text/plain": [
       "30"
      ]
     },
     "execution_count": 35,
     "metadata": {},
     "output_type": "execute_result"
    }
   ],
   "source": [
    "df.loc[0, 'Date']\n",
    "first_day = 'May 1, 2020'\n",
    "last_day = 'May 31, 2020'\n",
    "days_between(pd.to_datetime(day1), pd.to_datetime(day2))"
   ]
  },
  {
   "cell_type": "code",
   "execution_count": 36,
   "metadata": {},
   "outputs": [
    {
     "data": {
      "text/html": [
       "<div>\n",
       "<style scoped>\n",
       "    .dataframe tbody tr th:only-of-type {\n",
       "        vertical-align: middle;\n",
       "    }\n",
       "\n",
       "    .dataframe tbody tr th {\n",
       "        vertical-align: top;\n",
       "    }\n",
       "\n",
       "    .dataframe thead th {\n",
       "        text-align: right;\n",
       "    }\n",
       "</style>\n",
       "<table border=\"1\" class=\"dataframe\">\n",
       "  <thead>\n",
       "    <tr style=\"text-align: right;\">\n",
       "      <th></th>\n",
       "      <th>Date</th>\n",
       "      <th>Price</th>\n",
       "      <th>Open</th>\n",
       "      <th>High</th>\n",
       "      <th>Low</th>\n",
       "      <th>Vol.</th>\n",
       "      <th>Change %</th>\n",
       "    </tr>\n",
       "  </thead>\n",
       "  <tbody>\n",
       "    <tr>\n",
       "      <th>0</th>\n",
       "      <td>May 31, 2020</td>\n",
       "      <td>166,477</td>\n",
       "      <td>170,128</td>\n",
       "      <td>170,210</td>\n",
       "      <td>166,270</td>\n",
       "      <td>-</td>\n",
       "      <td>-2.14%</td>\n",
       "    </tr>\n",
       "    <tr>\n",
       "      <th>1</th>\n",
       "      <td>May 30, 2020</td>\n",
       "      <td>170,124</td>\n",
       "      <td>165,413</td>\n",
       "      <td>170,818</td>\n",
       "      <td>164,118</td>\n",
       "      <td>-</td>\n",
       "      <td>2.87%</td>\n",
       "    </tr>\n",
       "    <tr>\n",
       "      <th>2</th>\n",
       "      <td>May 29, 2020</td>\n",
       "      <td>165,382</td>\n",
       "      <td>167,900</td>\n",
       "      <td>168,345</td>\n",
       "      <td>163,920</td>\n",
       "      <td>-</td>\n",
       "      <td>-1.21%</td>\n",
       "    </tr>\n",
       "    <tr>\n",
       "      <th>3</th>\n",
       "      <td>May 28, 2020</td>\n",
       "      <td>167,405</td>\n",
       "      <td>159,740</td>\n",
       "      <td>168,246</td>\n",
       "      <td>158,290</td>\n",
       "      <td>-</td>\n",
       "      <td>4.89%</td>\n",
       "    </tr>\n",
       "    <tr>\n",
       "      <th>4</th>\n",
       "      <td>May 27, 2020</td>\n",
       "      <td>159,604</td>\n",
       "      <td>153,721</td>\n",
       "      <td>160,736</td>\n",
       "      <td>153,424</td>\n",
       "      <td>-</td>\n",
       "      <td>3.76%</td>\n",
       "    </tr>\n",
       "  </tbody>\n",
       "</table>\n",
       "</div>"
      ],
      "text/plain": [
       "           Date    Price     Open     High      Low Vol. Change %\n",
       "0  May 31, 2020  166,477  170,128  170,210  166,270    -   -2.14%\n",
       "1  May 30, 2020  170,124  165,413  170,818  164,118    -    2.87%\n",
       "2  May 29, 2020  165,382  167,900  168,345  163,920    -   -1.21%\n",
       "3  May 28, 2020  167,405  159,740  168,246  158,290    -    4.89%\n",
       "4  May 27, 2020  159,604  153,721  160,736  153,424    -    3.76%"
      ]
     },
     "execution_count": 36,
     "metadata": {},
     "output_type": "execute_result"
    }
   ],
   "source": [
    "df = pd.read_csv(get_path('BTC_ZAR.csv', 'data'))\n",
    "df.head()"
   ]
  },
  {
   "cell_type": "code",
   "execution_count": 37,
   "metadata": {},
   "outputs": [
    {
     "data": {
      "text/html": [
       "<div>\n",
       "<style scoped>\n",
       "    .dataframe tbody tr th:only-of-type {\n",
       "        vertical-align: middle;\n",
       "    }\n",
       "\n",
       "    .dataframe tbody tr th {\n",
       "        vertical-align: top;\n",
       "    }\n",
       "\n",
       "    .dataframe thead th {\n",
       "        text-align: right;\n",
       "    }\n",
       "</style>\n",
       "<table border=\"1\" class=\"dataframe\">\n",
       "  <thead>\n",
       "    <tr style=\"text-align: right;\">\n",
       "      <th></th>\n",
       "      <th>Date</th>\n",
       "      <th>Price</th>\n",
       "      <th>Open</th>\n",
       "      <th>High</th>\n",
       "      <th>Low</th>\n",
       "      <th>Vol.</th>\n",
       "      <th>Change %</th>\n",
       "      <th>Diff</th>\n",
       "    </tr>\n",
       "  </thead>\n",
       "  <tbody>\n",
       "    <tr>\n",
       "      <th>0</th>\n",
       "      <td>May 31, 2020</td>\n",
       "      <td>166477.0</td>\n",
       "      <td>170,128</td>\n",
       "      <td>170,210</td>\n",
       "      <td>166,270</td>\n",
       "      <td>-</td>\n",
       "      <td>-2.14%</td>\n",
       "      <td>30</td>\n",
       "    </tr>\n",
       "    <tr>\n",
       "      <th>1</th>\n",
       "      <td>May 30, 2020</td>\n",
       "      <td>170124.0</td>\n",
       "      <td>165,413</td>\n",
       "      <td>170,818</td>\n",
       "      <td>164,118</td>\n",
       "      <td>-</td>\n",
       "      <td>2.87%</td>\n",
       "      <td>29</td>\n",
       "    </tr>\n",
       "    <tr>\n",
       "      <th>2</th>\n",
       "      <td>May 29, 2020</td>\n",
       "      <td>165382.0</td>\n",
       "      <td>167,900</td>\n",
       "      <td>168,345</td>\n",
       "      <td>163,920</td>\n",
       "      <td>-</td>\n",
       "      <td>-1.21%</td>\n",
       "      <td>28</td>\n",
       "    </tr>\n",
       "    <tr>\n",
       "      <th>3</th>\n",
       "      <td>May 28, 2020</td>\n",
       "      <td>167405.0</td>\n",
       "      <td>159,740</td>\n",
       "      <td>168,246</td>\n",
       "      <td>158,290</td>\n",
       "      <td>-</td>\n",
       "      <td>4.89%</td>\n",
       "      <td>27</td>\n",
       "    </tr>\n",
       "    <tr>\n",
       "      <th>4</th>\n",
       "      <td>May 27, 2020</td>\n",
       "      <td>159604.0</td>\n",
       "      <td>153,721</td>\n",
       "      <td>160,736</td>\n",
       "      <td>153,424</td>\n",
       "      <td>-</td>\n",
       "      <td>3.76%</td>\n",
       "      <td>26</td>\n",
       "    </tr>\n",
       "  </tbody>\n",
       "</table>\n",
       "</div>"
      ],
      "text/plain": [
       "           Date     Price     Open     High      Low Vol. Change %  Diff\n",
       "0  May 31, 2020  166477.0  170,128  170,210  166,270    -   -2.14%    30\n",
       "1  May 30, 2020  170124.0  165,413  170,818  164,118    -    2.87%    29\n",
       "2  May 29, 2020  165382.0  167,900  168,345  163,920    -   -1.21%    28\n",
       "3  May 28, 2020  167405.0  159,740  168,246  158,290    -    4.89%    27\n",
       "4  May 27, 2020  159604.0  153,721  160,736  153,424    -    3.76%    26"
      ]
     },
     "execution_count": 37,
     "metadata": {},
     "output_type": "execute_result"
    }
   ],
   "source": [
    "df['Price'] = df['Price'].apply(lambda x: float(x.split()[0].replace(',', '')))\n",
    "df['Diff'] = df['Date'].apply(lambda x: days_between(pd.to_datetime(first_day), pd.to_datetime(x)))\n",
    "df.head()"
   ]
  },
  {
   "cell_type": "code",
   "execution_count": 38,
   "metadata": {},
   "outputs": [
    {
     "data": {
      "image/png": "[encoded data removed]",
      "text/plain": [
       "<Figure size 1152x576 with 1 Axes>"
      ]
     },
     "metadata": {
      "needs_background": "light"
     },
     "output_type": "display_data"
    }
   ],
   "source": [
    "plt.figure(figsize=(16, 8))\n",
    "\n",
    "ax = sns.lineplot(x=\"Diff\", y=\"Price\", data=df)"
   ]
  },
  {
   "cell_type": "markdown",
   "metadata": {},
   "source": [
    "## Signal to Maximise\n",
    "We want to maximise our Profit over 1 Month  \n",
    "Profit = Value of BTC in Rands on First Day - Vaule of BTC in Rands on Last Day"
   ]
  },
  {
   "cell_type": "markdown",
   "metadata": {},
   "source": [
    "### Buy Rule\n",
    "If there is a 10% price drop that persists for 2 days, buy (R1, 000) BTC."
   ]
  },
  {
   "cell_type": "markdown",
   "metadata": {},
   "source": [
    "### Sell Rule\n",
    "If there is a 10% price increase that persists for 2 days, see all BTC."
   ]
  },
  {
   "cell_type": "code",
   "execution_count": null,
   "metadata": {},
   "outputs": [],
   "source": []
  }
 ],
 "metadata": {
  "kernelspec": {
   "display_name": "Python 3",
   "language": "python",
   "name": "python3"
  },
  "language_info": {
   "codemirror_mode": {
    "name": "ipython",
    "version": 3
   },
   "file_extension": ".py",
   "mimetype": "text/x-python",
   "name": "python",
   "nbconvert_exporter": "python",
   "pygments_lexer": "ipython3",
   "version": "3.7.7"
  }
 },
 "nbformat": 4,
 "nbformat_minor": 4
}
